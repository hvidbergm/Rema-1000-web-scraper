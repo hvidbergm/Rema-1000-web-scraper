{
 "cells": [
  {
   "cell_type": "markdown",
   "metadata": {},
   "source": [
    "# Rema1000 Discount Crawler"
   ]
  },
  {
   "cell_type": "markdown",
   "metadata": {},
   "source": [
    "## Imports"
   ]
  },
  {
   "cell_type": "code",
   "execution_count": 1,
   "metadata": {},
   "outputs": [],
   "source": [
    "from selenium import webdriver\n",
    "from selenium.webdriver.common.by import By\n",
    "from selenium.webdriver.support.ui import WebDriverWait\n",
    "from selenium.webdriver.support import expected_conditions as EC\n",
    "from bs4 import BeautifulSoup\n",
    "import pandas as pd\n",
    "import datetime\n",
    "import time"
   ]
  },
  {
   "cell_type": "markdown",
   "metadata": {},
   "source": [
    "## Crawler"
   ]
  },
  {
   "cell_type": "code",
   "execution_count": 27,
   "metadata": {},
   "outputs": [],
   "source": [
    "url = \"https://shop.rema1000.dk/\"\n",
    "driver = webdriver.Firefox()\n",
    "driver.get(url)\n",
    "\n",
    "# accept cookies\n",
    "WebDriverWait(driver, 2).until(EC.element_to_be_clickable((By.CSS_SELECTOR,\"#declineButton\"))).click()\n",
    "\n",
    "# wait and refresh to load correct page content\n",
    "time.sleep(1)\n",
    "driver.refresh()\n",
    "time.sleep(1)\n",
    "soup = BeautifulSoup(driver.page_source)\n",
    "\n",
    "# get all urls\n",
    "items = soup.find_all(\"a\", class_=\"item\")\n",
    "\n",
    "urls = []\n",
    "\n",
    "for item in items:\n",
    "    urls.append(str(item).split('href=\"')[1].split('\"')[0])\n",
    "\n",
    "urls = [url[:-1] + item for item in urls]\n",
    "\n",
    "# create an empty dataframe\n",
    "all_products = pd.DataFrame()\n",
    "columns = ['product_title', 'product_price', 'product_price_per_unit', 'product_subtitle', 'product_weight', 'product_brand', 'product_discount', 'date']\n",
    "all_products = pd.DataFrame(columns=columns)\n",
    "\n",
    "# go through each category and get all products\n",
    "sub_category_urls = []\n",
    "\n",
    "for category_url in urls:\n",
    "    driver.get(category_url)\n",
    "    # time.sleep(1)\n",
    "    driver.refresh() # MIGHT NOT BE NEEDED???\n",
    "    time.sleep(2) # INCREASE TO MAKE SURE EVERYTHING IS LOADED?\n",
    "    soup = BeautifulSoup(driver.page_source)\n",
    "\n",
    "    sub_categories = soup.find_all(\"a\", class_=\"all\")\n",
    "\n",
    "    for sub_category in sub_categories:\n",
    "        sub_category_urls.append((str(sub_category).split('href=\"')[1].split('\"')[0]))\n",
    "\n",
    "# make sub_category_urls complete\n",
    "sub_category_urls = [url[:-1] + sub_category_url for sub_category_url in sub_category_urls]\n",
    "\n",
    "# go through each subcategory and get all products\n",
    "for sub_category_url in sub_category_urls:\n",
    "    # load pages\n",
    "    driver.get(sub_category_url)\n",
    "    time.sleep(1)\n",
    "    driver.refresh() # MIGHT NOT BE NEEDED???\n",
    "    time.sleep(1) # INCREASE TO MAKE SURE EVERYTHING IS LOADED?\n",
    "    soup = BeautifulSoup(driver.page_source)\n",
    "\n",
    "    # get all products\n",
    "    products = soup.find_all(\"a\", class_=\"product-wrap\")\n",
    "\n",
    "    # create an empty dataframe\n",
    "    product_category = pd.DataFrame()\n",
    "    columns = ['product_title', 'product_price', 'product_price_per_unit', 'product_subtitle', 'product_weight', 'product_brand', 'product_discount', 'date']\n",
    "    product_category = pd.DataFrame(columns=columns)\n",
    "\n",
    "    # go through each product\n",
    "    for product in products:\n",
    "        current_product = []\n",
    "        current_product.append(str(product.find(\"div\", class_=\"title\")).split('\"\">')[1].split('</div>')[0])\n",
    "        current_product.append(str(product.find(\"div\", class_=\"price\").find(\"span\", class_=\"price-normal\")).split('\"\">')[1].split('</')[0].replace(\"<span>\",\".\"))\n",
    "        current_product.append(str(product.find(\"div\", class_=\"price\").find(\"span\", class_=\"price-per-unit\")).split('\"\">')[1].split('</')[0])\n",
    "        current_product.append(str(product.find(\"div\", class_=\"extra\")).split('\"\">')[2].split(\"</\")[0])\n",
    "        current_product.append(str(product.find(\"div\", class_=\"extra\")).split('\"\">')[2].split(\"</\")[0].split(\" / \")[0])\n",
    "        current_product.append(str(product.find(\"div\", class_=\"extra\")).split('\"\">')[2].split(\"</\")[0].split(\" / \")[1])\n",
    "        current_product.append(1 if \"avisvare\" in str(product.find_all(\"div\", class_=\"top\")) else 0)\n",
    "        current_product.append(datetime.datetime.now().strftime(\"%Y-%m-%d\"))\n",
    "\n",
    "        # product df\n",
    "        current_product = pd.DataFrame(current_product).transpose()\n",
    "        current_product.columns = columns\n",
    "\n",
    "        # add product df to category \n",
    "        product_category = pd.concat([product_category, current_product], ignore_index=True)\n",
    "\n",
    "    # add product category to all products \n",
    "    all_products = pd.concat([all_products, product_category], ignore_index=True)\n",
    "    \n",
    "driver.quit()\n",
    "\n",
    "# v1 RUNTIME: 2m 17s\n",
    "# v2 RUNTIME: 12m 26s\n",
    "# v3 RUNTIME: "
   ]
  },
  {
   "cell_type": "code",
   "execution_count": 28,
   "metadata": {},
   "outputs": [
    {
     "name": "stdout",
     "output_type": "stream",
     "text": [
      "158\n",
      "['https://shop.rema1000.dk/brod-bavinchi/baguetteflutes', 'https://shop.rema1000.dk/brod-bavinchi/boller', 'https://shop.rema1000.dk/brod-bavinchi/brod', 'https://shop.rema1000.dk/brod-bavinchi/rugbrod', 'https://shop.rema1000.dk/brod-bavinchi/fast-food-brod', 'https://shop.rema1000.dk/brod-bavinchi/bavinchi-bager', 'https://shop.rema1000.dk/frugt-gront/paere-aeble-banan-citrusfrugt', 'https://shop.rema1000.dk/frugt-gront/blommer-fersken-nektariner-kiwi', 'https://shop.rema1000.dk/frugt-gront/melon-baer-vindruer-eksotisk-frugt', 'https://shop.rema1000.dk/frugt-gront/agurk-tomat-peberfrugt', 'https://shop.rema1000.dk/frugt-gront/salater-fint-gront-avocado', 'https://shop.rema1000.dk/frugt-gront/krydderurter-smagsforstaerkere', 'https://shop.rema1000.dk/frugt-gront/grov-gront', 'https://shop.rema1000.dk/frugt-gront/kal', 'https://shop.rema1000.dk/frugt-gront/kartofler-log', 'https://shop.rema1000.dk/nemt-hurtigt/snittet-frugt-gront', 'https://shop.rema1000.dk/nemt-hurtigt/maltidssalater-pastasalater-nudelsalater', 'https://shop.rema1000.dk/nemt-hurtigt/sandwiches-wraps', 'https://shop.rema1000.dk/nemt-hurtigt/ready-to-cook', 'https://shop.rema1000.dk/nemt-hurtigt/kartofler', 'https://shop.rema1000.dk/nemt-hurtigt/shots-juice-smoothies', 'https://shop.rema1000.dk/kod-fisk-fjerkrae/fisk-skaldyr', 'https://shop.rema1000.dk/kod-fisk-fjerkrae/hakket-kod', 'https://shop.rema1000.dk/kod-fisk-fjerkrae/kylling', 'https://shop.rema1000.dk/kod-fisk-fjerkrae/oksekod', 'https://shop.rema1000.dk/kod-fisk-fjerkrae/gris', 'https://shop.rema1000.dk/kod-fisk-fjerkrae/lam', 'https://shop.rema1000.dk/kod-fisk-fjerkrae/plantebaserede-alternativer', 'https://shop.rema1000.dk/kod-fisk-fjerkrae/vildt', 'https://shop.rema1000.dk/kol/bacon-toppings', 'https://shop.rema1000.dk/kol/delikatesser', 'https://shop.rema1000.dk/kol/plantebaserede-produkter', 'https://shop.rema1000.dk/kol/dej', 'https://shop.rema1000.dk/kol/dressing-saucer', 'https://shop.rema1000.dk/kol/fisk-sild-skaldyr', 'https://shop.rema1000.dk/kol/frisk-pasta', 'https://shop.rema1000.dk/kol/faerdigretter', 'https://shop.rema1000.dk/kol/palaeg', 'https://shop.rema1000.dk/kol/postejpate', 'https://shop.rema1000.dk/kol/polser', 'https://shop.rema1000.dk/kol/palaegs-salater', 'https://shop.rema1000.dk/ost-mv/hytteost', 'https://shop.rema1000.dk/ost-mv/plantebaseret', 'https://shop.rema1000.dk/ost-mv/borneost', 'https://shop.rema1000.dk/ost-mv/hard-ost', 'https://shop.rema1000.dk/ost-mv/madlavningsost-mv', 'https://shop.rema1000.dk/ost-mv/skiveskaret', 'https://shop.rema1000.dk/ost-mv/skaereost', 'https://shop.rema1000.dk/ost-mv/smoreost', 'https://shop.rema1000.dk/ost-mv/specialost', 'https://shop.rema1000.dk/frost/brod-kager', 'https://shop.rema1000.dk/frost/fisk-skaldyr', 'https://shop.rema1000.dk/frost/faerdigretter', 'https://shop.rema1000.dk/frost/grontsager-frugt-baer', 'https://shop.rema1000.dk/frost/is-og-dessert', 'https://shop.rema1000.dk/frost/pizza', 'https://shop.rema1000.dk/frost/kartofler', 'https://shop.rema1000.dk/frost/kod-fjerkrae', 'https://shop.rema1000.dk/frost/suppe-suppefyld', 'https://shop.rema1000.dk/mejeri/flode-mv', 'https://shop.rema1000.dk/mejeri/gaer', 'https://shop.rema1000.dk/mejeri/juice-kakao-drikkeyoghurt-mv', 'https://shop.rema1000.dk/mejeri/koldskal', 'https://shop.rema1000.dk/mejeri/maelk-mv', 'https://shop.rema1000.dk/mejeri/maelkesnittedessert', 'https://shop.rema1000.dk/mejeri/smor-fedtstoffer', 'https://shop.rema1000.dk/mejeri/syrnede-produkter', 'https://shop.rema1000.dk/mejeri/yoghurt-mv', 'https://shop.rema1000.dk/mejeri/aeg', 'https://shop.rema1000.dk/kolonial/chips-og-snacks', 'https://shop.rema1000.dk/kolonial/dressing', 'https://shop.rema1000.dk/kolonial/fiskekonserves', 'https://shop.rema1000.dk/kolonial/ketchup-remoulade-mayonnaise-mv', 'https://shop.rema1000.dk/kolonial/kiks-kager-knaekbrod', 'https://shop.rema1000.dk/kolonial/konserves-survarer', 'https://shop.rema1000.dk/kolonial/krydderier', 'https://shop.rema1000.dk/kolonial/margarine', 'https://shop.rema1000.dk/kolonial/marmelade-chokolade-palaeg-mv', 'https://shop.rema1000.dk/kolonial/mel-sukker-bagning', 'https://shop.rema1000.dk/kolonial/morgenmad', 'https://shop.rema1000.dk/kolonial/nodder-torret-frugt', 'https://shop.rema1000.dk/kolonial/olie-eddike-balsamico', 'https://shop.rema1000.dk/kolonial/ris-pasta-mv', 'https://shop.rema1000.dk/kolonial/saucer-nem-mad', 'https://shop.rema1000.dk/kolonial/tex-mex', 'https://shop.rema1000.dk/drikkevarer/alkoholfri-olvin', 'https://shop.rema1000.dk/drikkevarer/hedvinaperitif', 'https://shop.rema1000.dk/drikkevarer/hvidvin', 'https://shop.rema1000.dk/drikkevarer/mousserende-vin', 'https://shop.rema1000.dk/drikkevarer/rosevin', 'https://shop.rema1000.dk/drikkevarer/rodvin', 'https://shop.rema1000.dk/drikkevarer/sodavand-vand-smoothies-mv', 'https://shop.rema1000.dk/drikkevarer/ready-to-drink', 'https://shop.rema1000.dk/drikkevarer/special-ol', 'https://shop.rema1000.dk/drikkevarer/ol', 'https://shop.rema1000.dk/drikkevarer/juice-mv', 'https://shop.rema1000.dk/drikkevarer/saft-mv', 'https://shop.rema1000.dk/drikkevarer/instant-kaffe', 'https://shop.rema1000.dk/drikkevarer/kaffe', 'https://shop.rema1000.dk/drikkevarer/kaffetilbehor', 'https://shop.rema1000.dk/drikkevarer/kakao', 'https://shop.rema1000.dk/drikkevarer/plantedrikke', 'https://shop.rema1000.dk/drikkevarer/te', 'https://shop.rema1000.dk/drikkevarer/energidrikke', 'https://shop.rema1000.dk/husholdning/kemisk-teknisk', 'https://shop.rema1000.dk/husholdning/dyreartikler', 'https://shop.rema1000.dk/husholdning/hundemad', 'https://shop.rema1000.dk/husholdning/kattemad', 'https://shop.rema1000.dk/husholdning/fuglefoder', 'https://shop.rema1000.dk/husholdning/el', 'https://shop.rema1000.dk/husholdning/fodselsdag', 'https://shop.rema1000.dk/husholdning/indpakningkort', 'https://shop.rema1000.dk/husholdning/kontor-legetoj', 'https://shop.rema1000.dk/husholdning/kokkenredskaber', 'https://shop.rema1000.dk/husholdning/lys-servietter', 'https://shop.rema1000.dk/husholdning/optaending', 'https://shop.rema1000.dk/husholdning/papir-poser', 'https://shop.rema1000.dk/husholdning/rengoringsartikler', 'https://shop.rema1000.dk/husholdning/rengoringsmidler', 'https://shop.rema1000.dk/husholdning/service', 'https://shop.rema1000.dk/husholdning/textil', 'https://shop.rema1000.dk/husholdning/toiletpapirkokkenruller', 'https://shop.rema1000.dk/husholdning/vask-opvask', 'https://shop.rema1000.dk/baby-og-smaborn/bleer', 'https://shop.rema1000.dk/baby-og-smaborn/baby-og-smabornsmad', 'https://shop.rema1000.dk/baby-og-smaborn/baby-bad', 'https://shop.rema1000.dk/baby-og-smaborn/sutter', 'https://shop.rema1000.dk/baby-og-smaborn/ammeindlaeg', 'https://shop.rema1000.dk/baby-og-smaborn/diverse-baby', 'https://shop.rema1000.dk/personlig-pleje/ansigt', 'https://shop.rema1000.dk/personlig-pleje/barberartikler', 'https://shop.rema1000.dk/personlig-pleje/cremer-til-krophaender', 'https://shop.rema1000.dk/personlig-pleje/deodorant', 'https://shop.rema1000.dk/personlig-pleje/diverse', 'https://shop.rema1000.dk/personlig-pleje/har-styling', 'https://shop.rema1000.dk/personlig-pleje/kosttilskud', 'https://shop.rema1000.dk/personlig-pleje/lommelettervadservietterplaster', 'https://shop.rema1000.dk/personlig-pleje/laebepomade', 'https://shop.rema1000.dk/personlig-pleje/mundpleje', 'https://shop.rema1000.dk/personlig-pleje/shampoobalsam', 'https://shop.rema1000.dk/personlig-pleje/solcreme', 'https://shop.rema1000.dk/personlig-pleje/saebe', 'https://shop.rema1000.dk/personlig-pleje/vat-bind-tamponer', 'https://shop.rema1000.dk/slik/bolcher', 'https://shop.rema1000.dk/slik/chokolade-mv', 'https://shop.rema1000.dk/slik/karamel-mv', 'https://shop.rema1000.dk/slik/lakrids-mv', 'https://shop.rema1000.dk/slik/mixposer', 'https://shop.rema1000.dk/slik/pastiller', 'https://shop.rema1000.dk/slik/skum', 'https://shop.rema1000.dk/slik/tyggegummi', 'https://shop.rema1000.dk/slik/vingummi', 'https://shop.rema1000.dk/slik/marcipan-mv', 'https://shop.rema1000.dk/kiosk/aviser', 'https://shop.rema1000.dk/kiosk/ugeblade', 'https://shop.rema1000.dk/kiosk/spiritus', 'https://shop.rema1000.dk/kiosk/shots', 'https://shop.rema1000.dk/kiosk/tilbehor']\n"
     ]
    }
   ],
   "source": [
    "print(len(sub_category_urls))\n",
    "print(sub_category_urls) # did we catch all?"
   ]
  },
  {
   "cell_type": "code",
   "execution_count": 29,
   "metadata": {},
   "outputs": [
    {
     "name": "stdout",
     "output_type": "stream",
     "text": [
      "               product_title product_price product_price_per_unit  \\\n",
      "0                     FLUTES          6.50          21.67 per Kg.   \n",
      "1                   CIABATTA          6.95          23.17 per Kg.   \n",
      "2            FULDKORNSFLUTES         12.00          40.00 per Kg.   \n",
      "3             SOLSIKKEBOLLER         25.50          51.00 per Kg.   \n",
      "4              KRYDDERBOLLER          8.50          24.29 per Kg.   \n",
      "...                      ...           ...                    ...   \n",
      "3333       TYRKISK PEBER 32%         36.95        369.50 per Ltr.   \n",
      "3334         SMÅ FUGLE 16,4%         99.00         99.00 per Ltr.   \n",
      "3335  SOUR BUBBLE FIZZ 16,4%         99.00         99.00 per Ltr.   \n",
      "3336               EXTRA GAS         12.50         41.67 per Ltr.   \n",
      "3337           ZAPP ELEKTRON         10.00           2.00 per Pk.   \n",
      "\n",
      "          product_subtitle product_weight product_brand product_discount  \\\n",
      "0      300 GR. / REMA 1000        300 GR.     REMA 1000                0   \n",
      "1      300 GR. / REMA 1000        300 GR.     REMA 1000                0   \n",
      "2      300 GR. / REMA 1000        300 GR.     REMA 1000                0   \n",
      "3       500 GR. / DET GODE        500 GR.      DET GODE                0   \n",
      "4      350 GR. / REMA 1000        350 GR.     REMA 1000                0   \n",
      "...                    ...            ...           ...              ...   \n",
      "3333  10 CL. / HOT N´SWEET         10 CL.   HOT N´SWEET                0   \n",
      "3334             1 LTR. /          1 LTR.                              0   \n",
      "3335     1 LTR. / SMÅ SURE         1 LTR.      SMÅ SURE                0   \n",
      "3336     300 ML. / LIGHTER        300 ML.       LIGHTER                0   \n",
      "3337       5 PK. / LIGHTER          5 PK.       LIGHTER                0   \n",
      "\n",
      "            date  \n",
      "0     2024-01-12  \n",
      "1     2024-01-12  \n",
      "2     2024-01-12  \n",
      "3     2024-01-12  \n",
      "4     2024-01-12  \n",
      "...          ...  \n",
      "3333  2024-01-12  \n",
      "3334  2024-01-12  \n",
      "3335  2024-01-12  \n",
      "3336  2024-01-12  \n",
      "3337  2024-01-12  \n",
      "\n",
      "[3338 rows x 8 columns]\n"
     ]
    }
   ],
   "source": [
    "print(all_products)"
   ]
  },
  {
   "cell_type": "markdown",
   "metadata": {},
   "source": [
    "## Stats"
   ]
  },
  {
   "cell_type": "code",
   "execution_count": 30,
   "metadata": {},
   "outputs": [
    {
     "name": "stdout",
     "output_type": "stream",
     "text": [
      "products scraped: 3338\n",
      "unique products scraped: 2594\n",
      "products with discount: 379\n"
     ]
    }
   ],
   "source": [
    "print(f\"products scraped: {all_products.shape[0]}\") #3338\n",
    "print(f\"unique products scraped: {all_products['product_title'].nunique()}\") #2594\n",
    "print(f\"products with discount: {all_products[all_products['product_discount'] == 1].shape[0]}\") #57"
   ]
  },
  {
   "cell_type": "markdown",
   "metadata": {},
   "source": [
    "## Inspect data"
   ]
  },
  {
   "cell_type": "code",
   "execution_count": 178,
   "metadata": {},
   "outputs": [
    {
     "data": {
      "text/html": [
       "<div>\n",
       "<style scoped>\n",
       "    .dataframe tbody tr th:only-of-type {\n",
       "        vertical-align: middle;\n",
       "    }\n",
       "\n",
       "    .dataframe tbody tr th {\n",
       "        vertical-align: top;\n",
       "    }\n",
       "\n",
       "    .dataframe thead th {\n",
       "        text-align: right;\n",
       "    }\n",
       "</style>\n",
       "<table border=\"1\" class=\"dataframe\">\n",
       "  <thead>\n",
       "    <tr style=\"text-align: right;\">\n",
       "      <th></th>\n",
       "      <th>product_title</th>\n",
       "      <th>product_price</th>\n",
       "      <th>product_price_per_unit</th>\n",
       "      <th>product_subtitle</th>\n",
       "      <th>product_weight</th>\n",
       "      <th>product_brand</th>\n",
       "      <th>product_discount</th>\n",
       "      <th>date</th>\n",
       "    </tr>\n",
       "  </thead>\n",
       "  <tbody>\n",
       "    <tr>\n",
       "      <th>0</th>\n",
       "      <td>FLUTES</td>\n",
       "      <td>6.50</td>\n",
       "      <td>21.67 per Kg.</td>\n",
       "      <td>300 GR. / REMA 1000</td>\n",
       "      <td>300 GR.</td>\n",
       "      <td>REMA 1000</td>\n",
       "      <td>0</td>\n",
       "      <td>2024-01-12</td>\n",
       "    </tr>\n",
       "    <tr>\n",
       "      <th>1</th>\n",
       "      <td>CIABATTA</td>\n",
       "      <td>6.95</td>\n",
       "      <td>23.17 per Kg.</td>\n",
       "      <td>300 GR. / REMA 1000</td>\n",
       "      <td>300 GR.</td>\n",
       "      <td>REMA 1000</td>\n",
       "      <td>0</td>\n",
       "      <td>2024-01-12</td>\n",
       "    </tr>\n",
       "    <tr>\n",
       "      <th>2</th>\n",
       "      <td>FULDKORNSFLUTES</td>\n",
       "      <td>12.00</td>\n",
       "      <td>40.00 per Kg.</td>\n",
       "      <td>300 GR. / REMA 1000</td>\n",
       "      <td>300 GR.</td>\n",
       "      <td>REMA 1000</td>\n",
       "      <td>0</td>\n",
       "      <td>2024-01-12</td>\n",
       "    </tr>\n",
       "    <tr>\n",
       "      <th>3</th>\n",
       "      <td>SOLSIKKEBOLLER</td>\n",
       "      <td>25.50</td>\n",
       "      <td>51.00 per Kg.</td>\n",
       "      <td>500 GR. / DET GODE</td>\n",
       "      <td>500 GR.</td>\n",
       "      <td>DET GODE</td>\n",
       "      <td>0</td>\n",
       "      <td>2024-01-12</td>\n",
       "    </tr>\n",
       "    <tr>\n",
       "      <th>4</th>\n",
       "      <td>KRYDDERBOLLER</td>\n",
       "      <td>8.50</td>\n",
       "      <td>24.29 per Kg.</td>\n",
       "      <td>350 GR. / REMA 1000</td>\n",
       "      <td>350 GR.</td>\n",
       "      <td>REMA 1000</td>\n",
       "      <td>0</td>\n",
       "      <td>2024-01-12</td>\n",
       "    </tr>\n",
       "    <tr>\n",
       "      <th>...</th>\n",
       "      <td>...</td>\n",
       "      <td>...</td>\n",
       "      <td>...</td>\n",
       "      <td>...</td>\n",
       "      <td>...</td>\n",
       "      <td>...</td>\n",
       "      <td>...</td>\n",
       "      <td>...</td>\n",
       "    </tr>\n",
       "    <tr>\n",
       "      <th>425</th>\n",
       "      <td>TYRKISK PEBER 32%</td>\n",
       "      <td>36.95</td>\n",
       "      <td>369.50 per Ltr.</td>\n",
       "      <td>10 CL. / HOT N´SWEET</td>\n",
       "      <td>10 CL.</td>\n",
       "      <td>HOT N´SWEET</td>\n",
       "      <td>0</td>\n",
       "      <td>2024-01-12</td>\n",
       "    </tr>\n",
       "    <tr>\n",
       "      <th>426</th>\n",
       "      <td>SMÅ FUGLE 16,4%</td>\n",
       "      <td>99.00</td>\n",
       "      <td>99.00 per Ltr.</td>\n",
       "      <td>1 LTR. /</td>\n",
       "      <td>1 LTR.</td>\n",
       "      <td></td>\n",
       "      <td>0</td>\n",
       "      <td>2024-01-12</td>\n",
       "    </tr>\n",
       "    <tr>\n",
       "      <th>427</th>\n",
       "      <td>SOUR BUBBLE FIZZ 16,4%</td>\n",
       "      <td>99.00</td>\n",
       "      <td>99.00 per Ltr.</td>\n",
       "      <td>1 LTR. / SMÅ SURE</td>\n",
       "      <td>1 LTR.</td>\n",
       "      <td>SMÅ SURE</td>\n",
       "      <td>0</td>\n",
       "      <td>2024-01-12</td>\n",
       "    </tr>\n",
       "    <tr>\n",
       "      <th>428</th>\n",
       "      <td>EXTRA GAS</td>\n",
       "      <td>12.50</td>\n",
       "      <td>41.67 per Ltr.</td>\n",
       "      <td>300 ML. / LIGHTER</td>\n",
       "      <td>300 ML.</td>\n",
       "      <td>LIGHTER</td>\n",
       "      <td>0</td>\n",
       "      <td>2024-01-12</td>\n",
       "    </tr>\n",
       "    <tr>\n",
       "      <th>429</th>\n",
       "      <td>ZAPP ELEKTRON</td>\n",
       "      <td>10.00</td>\n",
       "      <td>2.00 per Pk.</td>\n",
       "      <td>5 PK. / LIGHTER</td>\n",
       "      <td>5 PK.</td>\n",
       "      <td>LIGHTER</td>\n",
       "      <td>0</td>\n",
       "      <td>2024-01-12</td>\n",
       "    </tr>\n",
       "  </tbody>\n",
       "</table>\n",
       "<p>430 rows × 8 columns</p>\n",
       "</div>"
      ],
      "text/plain": [
       "              product_title product_price product_price_per_unit  \\\n",
       "0                    FLUTES          6.50          21.67 per Kg.   \n",
       "1                  CIABATTA          6.95          23.17 per Kg.   \n",
       "2           FULDKORNSFLUTES         12.00          40.00 per Kg.   \n",
       "3            SOLSIKKEBOLLER         25.50          51.00 per Kg.   \n",
       "4             KRYDDERBOLLER          8.50          24.29 per Kg.   \n",
       "..                      ...           ...                    ...   \n",
       "425       TYRKISK PEBER 32%         36.95        369.50 per Ltr.   \n",
       "426         SMÅ FUGLE 16,4%         99.00         99.00 per Ltr.   \n",
       "427  SOUR BUBBLE FIZZ 16,4%         99.00         99.00 per Ltr.   \n",
       "428               EXTRA GAS         12.50         41.67 per Ltr.   \n",
       "429           ZAPP ELEKTRON         10.00           2.00 per Pk.   \n",
       "\n",
       "         product_subtitle product_weight product_brand product_discount  \\\n",
       "0     300 GR. / REMA 1000        300 GR.     REMA 1000                0   \n",
       "1     300 GR. / REMA 1000        300 GR.     REMA 1000                0   \n",
       "2     300 GR. / REMA 1000        300 GR.     REMA 1000                0   \n",
       "3      500 GR. / DET GODE        500 GR.      DET GODE                0   \n",
       "4     350 GR. / REMA 1000        350 GR.     REMA 1000                0   \n",
       "..                    ...            ...           ...              ...   \n",
       "425  10 CL. / HOT N´SWEET         10 CL.   HOT N´SWEET                0   \n",
       "426             1 LTR. /          1 LTR.                              0   \n",
       "427     1 LTR. / SMÅ SURE         1 LTR.      SMÅ SURE                0   \n",
       "428     300 ML. / LIGHTER        300 ML.       LIGHTER                0   \n",
       "429       5 PK. / LIGHTER          5 PK.       LIGHTER                0   \n",
       "\n",
       "           date  \n",
       "0    2024-01-12  \n",
       "1    2024-01-12  \n",
       "2    2024-01-12  \n",
       "3    2024-01-12  \n",
       "4    2024-01-12  \n",
       "..          ...  \n",
       "425  2024-01-12  \n",
       "426  2024-01-12  \n",
       "427  2024-01-12  \n",
       "428  2024-01-12  \n",
       "429  2024-01-12  \n",
       "\n",
       "[430 rows x 8 columns]"
      ]
     },
     "execution_count": 178,
     "metadata": {},
     "output_type": "execute_result"
    }
   ],
   "source": [
    "all_products"
   ]
  },
  {
   "cell_type": "code",
   "execution_count": 1,
   "metadata": {},
   "outputs": [
    {
     "ename": "NameError",
     "evalue": "name 'all_products' is not defined",
     "output_type": "error",
     "traceback": [
      "\u001b[1;31m---------------------------------------------------------------------------\u001b[0m",
      "\u001b[1;31mNameError\u001b[0m                                 Traceback (most recent call last)",
      "\u001b[1;32mc:\\Users\\hvidb\\Desktop\\Projects\\Rema1000 scraper\\crawler.ipynb Cell 10\u001b[0m line \u001b[0;36m<cell line: 1>\u001b[1;34m()\u001b[0m\n\u001b[1;32m----> <a href='vscode-notebook-cell:/c%3A/Users/hvidb/Desktop/Projects/Rema1000%20scraper/crawler.ipynb#X15sZmlsZQ%3D%3D?line=0'>1</a>\u001b[0m all_products[all_products[\u001b[39m'\u001b[39m\u001b[39mproduct_discount\u001b[39m\u001b[39m'\u001b[39m] \u001b[39m==\u001b[39m \u001b[39m1\u001b[39m]\n",
      "\u001b[1;31mNameError\u001b[0m: name 'all_products' is not defined"
     ]
    }
   ],
   "source": [
    "all_products[all_products['product_discount'] == 1]"
   ]
  },
  {
   "cell_type": "markdown",
   "metadata": {},
   "source": [
    "## Save data as CSV"
   ]
  },
  {
   "cell_type": "code",
   "execution_count": null,
   "metadata": {},
   "outputs": [],
   "source": [
    "# Get current yearmonth\n",
    "now = datetime.datetime.now()\n",
    "week = now.strftime(\"%U\")\n",
    "month = now.strftime(\"%b\").lower()\n",
    "year = now.strftime(\"%Y\")\n",
    "\n",
    "# Save to excel\n",
    "all_products.to_excel(f\"rema1000_scraper{week}_{month}_{year}.xlsx\")\n",
    "\n",
    "# Save weekly excel files in a separate folder\n",
    "# Keep a consolidated file with all data in root folder"
   ]
  },
  {
   "cell_type": "markdown",
   "metadata": {},
   "source": [
    "End of document"
   ]
  }
 ],
 "metadata": {
  "kernelspec": {
   "display_name": "Python 3",
   "language": "python",
   "name": "python3"
  },
  "language_info": {
   "codemirror_mode": {
    "name": "ipython",
    "version": 3
   },
   "file_extension": ".py",
   "mimetype": "text/x-python",
   "name": "python",
   "nbconvert_exporter": "python",
   "pygments_lexer": "ipython3",
   "version": "3.9.13"
  }
 },
 "nbformat": 4,
 "nbformat_minor": 2
}
